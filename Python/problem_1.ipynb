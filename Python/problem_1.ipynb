{
  "nbformat": 4,
  "nbformat_minor": 0,
  "metadata": {
    "colab": {
      "name": "Problem1.ipynb",
      "provenance": []
    },
    "kernelspec": {
      "name": "python3",
      "display_name": "Python 3"
    },
    "language_info": {
      "name": "python"
    }
  },
  "cells": [
    {
      "cell_type": "code",
      "metadata": {
        "id": "lvqOp0zVcbNT"
      },
      "source": [
        "# Multiples of 3 and 5"
      ],
      "execution_count": null,
      "outputs": []
    },
    {
      "cell_type": "code",
      "metadata": {
        "colab": {
          "base_uri": "https://localhost:8080/"
        },
        "id": "REU_opLFesdm",
        "outputId": "0f5a3e38-63a3-4cf6-d5a3-a3c1258ee669"
      },
      "source": [
        "n=1000\n",
        "t=3\n",
        "j=5\n",
        "s3=0\n",
        "s5=0\n",
        "#print(i)\n",
        "for i in range(n):\n",
        " if(i%t==0):\n",
        "  s3+=i     #sum of multiples of 3\n",
        " if(i%j==0):\n",
        "  s5+=i      #sum of multiples of 5\n",
        "s=s3+s5\n",
        "s           #total sum"
      ],
      "execution_count": null,
      "outputs": [
        {
          "output_type": "execute_result",
          "data": {
            "text/plain": [
              "266333"
            ]
          },
          "metadata": {},
          "execution_count": 17
        }
      ]
    }
  ]
}