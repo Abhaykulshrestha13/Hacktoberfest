{
  "nbformat": 4,
  "nbformat_minor": 0,
  "metadata": {
    "colab": {
      "name": "problem_7.ipynb",
      "provenance": [],
      "collapsed_sections": []
    },
    "kernelspec": {
      "name": "python3",
      "display_name": "Python 3"
    },
    "language_info": {
      "name": "python"
    }
  },
  "cells": [
    {
      "cell_type": "markdown",
      "metadata": {
        "id": "oqmAGnsJ5Ya6"
      },
      "source": [
        "Problem7: 10001st prime"
      ]
    },
    {
      "cell_type": "code",
      "metadata": {
        "colab": {
          "base_uri": "https://localhost:8080/"
        },
        "id": "8-ddXgJ_5T8h",
        "outputId": "64d51010-4548-4104-c571-795d13334c9e"
      },
      "source": [
        "n=10001  #10001st prime no.\n",
        "\n",
        "i=3   \n",
        "k=1   #counter initialised by 1 to include '2' as a prime no. beforehand\n",
        "\n",
        "while True:\n",
        "  b= True \n",
        "  for j in range(2,int(i/2)+1):\n",
        "    if(i%j==0):\n",
        "      b= False\n",
        "      break\n",
        "  if(b==True):\n",
        "    k=k+1 \n",
        "  if(n==k or n<k):\n",
        "    break\n",
        "  else:\n",
        "    i=i+1\n",
        "print(\"10001st prime no. is: \",i)\n"
      ],
      "execution_count": null,
      "outputs": [
        {
          "output_type": "stream",
          "name": "stdout",
          "text": [
            "10001st prime no. is:  104743\n"
          ]
        }
      ]
    }
  ]
}