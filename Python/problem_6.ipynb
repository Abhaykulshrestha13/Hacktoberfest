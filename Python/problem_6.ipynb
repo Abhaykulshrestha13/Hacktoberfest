{
  "nbformat": 4,
  "nbformat_minor": 0,
  "metadata": {
    "colab": {
      "name": "Problem6.ipynb",
      "provenance": []
    },
    "kernelspec": {
      "name": "python3",
      "display_name": "Python 3"
    },
    "language_info": {
      "name": "python"
    }
  },
  "cells": [
    {
      "cell_type": "code",
      "metadata": {
        "id": "2dZG9im7lx1L"
      },
      "source": [
        "#Sum square difference"
      ],
      "execution_count": null,
      "outputs": []
    },
    {
      "cell_type": "code",
      "metadata": {
        "colab": {
          "base_uri": "https://localhost:8080/"
        },
        "id": "m_8iZi3rmK_f",
        "outputId": "f972aa40-1956-4bf9-8af2-e0f40d709908"
      },
      "source": [
        "n=100\n",
        "sum_of_sq=0\n",
        "sq_of_sum=0\n",
        "for i in range(n+1):\n",
        "  sum_of_sq+=i*i\n",
        "  sq_of_sum+=i\n",
        "sq_of_sum= sq_of_sum**2\n",
        "result= sq_of_sum-sum_of_sq\n",
        "\n",
        "result"
      ],
      "execution_count": 2,
      "outputs": [
        {
          "output_type": "execute_result",
          "data": {
            "text/plain": [
              "25164150"
            ]
          },
          "metadata": {},
          "execution_count": 2
        }
      ]
    }
  ]
}